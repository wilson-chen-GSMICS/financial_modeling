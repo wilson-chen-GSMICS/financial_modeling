{
 "cells": [
  {
   "cell_type": "markdown",
   "metadata": {},
   "source": [
    "## Demonstration sample and functions"
   ]
  },
  {
   "cell_type": "code",
   "execution_count": 2,
   "metadata": {},
   "outputs": [
    {
     "data": {
      "image/png": "[encoded data removed]",
      "text/plain": [
       "<Figure size 432x288 with 1 Axes>"
      ]
     },
     "metadata": {
      "needs_background": "light"
     },
     "output_type": "display_data"
    }
   ],
   "source": [
    "from sklearn.datasets.samples_generator import make_blobs\n",
    "import matplotlib.pyplot as plt\n",
    "import pandas as pd\n",
    "import numpy as np\n",
    "import copy\n",
    "X, y = make_blobs(n_samples=100, centers=2,cluster_std=0.5, random_state=0)\n",
    "plt.scatter(X[:, 0], X[:, 1])\n",
    "testSample = pd.DataFrame({'x':X[:, 0],'y':X[:, 1]})"
   ]
  },
  {
   "cell_type": "code",
   "execution_count": 3,
   "metadata": {},
   "outputs": [],
   "source": [
    "def initialCentroid(df):\n",
    "    k = 2 \n",
    "    x, y = df['x'], df['y']\n",
    "    centroid = {i+1:[np.random.randint(min(x),max(x)),np.random.randint(min(y),max(y))] for i in range(k)}\n",
    "    return centroid\n",
    "\n",
    "def updateCenter(df, centroids):\n",
    "    for key in centroids.keys():\n",
    "        centroids[key][0] = np.mean(df[df['closestCentroid'] == key]['x'])\n",
    "        centroids[key][1] = np.mean(df[df['closestCentroid'] == key]['y'])\n",
    "        return centroids\n",
    "\n",
    "\n",
    "def findingCentroid(df, centroids, counter,k=2):\n",
    "    counter += 1 #Count iterations\n",
    "    old_centroids = copy.deepcopy(centroids)\n",
    "    for key in centroids.keys():\n",
    "        df['distance from ' + str(key)] = np.sqrt((df['x']- old_centroids[key][0])**2 + (df['y']-old_centroids[key][1])**2)\n",
    "    df['closestCentroid'] = df[['distance from 1','distance from 2']].idxmin(axis=1)\n",
    "    df['closestCentroid'] = df['closestCentroid'].map(lambda x: int(x[-1]))\n",
    "    \n",
    "    newCentroids = updateCenter(df, centroids)\n",
    "    print('Iteration:', counter, ', centroid 1:',old_centroids,', centroid 2:', newCentroids)\n",
    "    while (newCentroids[1] != old_centroids[1]) or (newCentroids[2] != old_centroids[2]):\n",
    "        return findingCentroid(df, newCentroids,counter)\n",
    "    return df\n",
    "\n",
    "def clusterPlot(df):\n",
    "    fig = plt.figure(figsize = (5,5))\n",
    "    clusterOne = df[df['closestCentroid']==1]\n",
    "    clusterTwo = df[df['closestCentroid']==2]\n",
    "    plt.scatter(clusterOne['x'],clusterOne['y'],c='r')\n",
    "    plt.scatter(clusterTwo['x'],clusterTwo['y'],c='g')\n",
    "    plt.show()\n",
    "\n",
    "# This is the final function\n",
    "def kMeansClustering(df):\n",
    "    centroid = initialCentroid(df)\n",
    "    clusteredData = findingCentroid(df,centroid,0)\n",
    "    clusterPlot(clusteredData)\n",
    "    return clusteredData"
   ]
  },
  {
   "cell_type": "code",
   "execution_count": 4,
   "metadata": {},
   "outputs": [
    {
     "name": "stdout",
     "output_type": "stream",
     "text": [
      "Iteration: 1 , centroid 1: {1: [0, 3], 2: [1, 0]} , centroid 2: {1: [0.9732804218604479, 4.276850606611688], 2: [1, 0]}\n",
      "Iteration: 2 , centroid 1: {1: [0.9732804218604479, 4.276850606611688], 2: [1, 0]} , centroid 2: {1: [0.9633719139201409, 4.32499813368867], 2: [1, 0]}\n",
      "Iteration: 3 , centroid 1: {1: [0.9633719139201409, 4.32499813368867], 2: [1, 0]} , centroid 2: {1: [0.9633719139201409, 4.32499813368867], 2: [1, 0]}\n"
     ]
    },
    {
     "data": {
      "image/png": "[encoded data removed]",
      "text/plain": [
       "<Figure size 360x360 with 1 Axes>"
      ]
     },
     "metadata": {
      "needs_background": "light"
     },
     "output_type": "display_data"
    },
    {
     "data": {
      "text/html": [
       "<div>\n",
       "<style scoped>\n",
       "    .dataframe tbody tr th:only-of-type {\n",
       "        vertical-align: middle;\n",
       "    }\n",
       "\n",
       "    .dataframe tbody tr th {\n",
       "        vertical-align: top;\n",
       "    }\n",
       "\n",
       "    .dataframe thead th {\n",
       "        text-align: right;\n",
       "    }\n",
       "</style>\n",
       "<table border=\"1\" class=\"dataframe\">\n",
       "  <thead>\n",
       "    <tr style=\"text-align: right;\">\n",
       "      <th></th>\n",
       "      <th>x</th>\n",
       "      <th>y</th>\n",
       "      <th>distance from 1</th>\n",
       "      <th>distance from 2</th>\n",
       "      <th>closestCentroid</th>\n",
       "    </tr>\n",
       "  </thead>\n",
       "  <tbody>\n",
       "    <tr>\n",
       "      <th>0</th>\n",
       "      <td>3.136885</td>\n",
       "      <td>1.565928</td>\n",
       "      <td>3.512354</td>\n",
       "      <td>2.649228</td>\n",
       "      <td>2</td>\n",
       "    </tr>\n",
       "    <tr>\n",
       "      <th>1</th>\n",
       "      <td>1.481533</td>\n",
       "      <td>0.678754</td>\n",
       "      <td>3.682878</td>\n",
       "      <td>0.832214</td>\n",
       "      <td>2</td>\n",
       "    </tr>\n",
       "    <tr>\n",
       "      <th>2</th>\n",
       "      <td>0.349872</td>\n",
       "      <td>4.692533</td>\n",
       "      <td>0.715167</td>\n",
       "      <td>4.737354</td>\n",
       "      <td>1</td>\n",
       "    </tr>\n",
       "    <tr>\n",
       "      <th>3</th>\n",
       "      <td>0.532377</td>\n",
       "      <td>3.313389</td>\n",
       "      <td>1.099595</td>\n",
       "      <td>3.346224</td>\n",
       "      <td>1</td>\n",
       "    </tr>\n",
       "    <tr>\n",
       "      <th>4</th>\n",
       "      <td>2.649282</td>\n",
       "      <td>1.056135</td>\n",
       "      <td>3.678010</td>\n",
       "      <td>1.958457</td>\n",
       "      <td>2</td>\n",
       "    </tr>\n",
       "    <tr>\n",
       "      <th>...</th>\n",
       "      <td>...</td>\n",
       "      <td>...</td>\n",
       "      <td>...</td>\n",
       "      <td>...</td>\n",
       "      <td>...</td>\n",
       "    </tr>\n",
       "    <tr>\n",
       "      <th>95</th>\n",
       "      <td>-0.300225</td>\n",
       "      <td>4.630597</td>\n",
       "      <td>1.300026</td>\n",
       "      <td>4.809679</td>\n",
       "      <td>1</td>\n",
       "    </tr>\n",
       "    <tr>\n",
       "      <th>96</th>\n",
       "      <td>1.733458</td>\n",
       "      <td>-0.214038</td>\n",
       "      <td>4.603898</td>\n",
       "      <td>0.764051</td>\n",
       "      <td>2</td>\n",
       "    </tr>\n",
       "    <tr>\n",
       "      <th>97</th>\n",
       "      <td>2.529978</td>\n",
       "      <td>0.941439</td>\n",
       "      <td>3.728636</td>\n",
       "      <td>1.796424</td>\n",
       "      <td>2</td>\n",
       "    </tr>\n",
       "    <tr>\n",
       "      <th>98</th>\n",
       "      <td>0.169321</td>\n",
       "      <td>4.197417</td>\n",
       "      <td>0.804235</td>\n",
       "      <td>4.278824</td>\n",
       "      <td>1</td>\n",
       "    </tr>\n",
       "    <tr>\n",
       "      <th>99</th>\n",
       "      <td>1.442550</td>\n",
       "      <td>1.319845</td>\n",
       "      <td>3.043116</td>\n",
       "      <td>1.392064</td>\n",
       "      <td>2</td>\n",
       "    </tr>\n",
       "  </tbody>\n",
       "</table>\n",
       "<p>100 rows × 5 columns</p>\n",
       "</div>"
      ],
      "text/plain": [
       "           x         y  distance from 1  distance from 2  closestCentroid\n",
       "0   3.136885  1.565928         3.512354         2.649228                2\n",
       "1   1.481533  0.678754         3.682878         0.832214                2\n",
       "2   0.349872  4.692533         0.715167         4.737354                1\n",
       "3   0.532377  3.313389         1.099595         3.346224                1\n",
       "4   2.649282  1.056135         3.678010         1.958457                2\n",
       "..       ...       ...              ...              ...              ...\n",
       "95 -0.300225  4.630597         1.300026         4.809679                1\n",
       "96  1.733458 -0.214038         4.603898         0.764051                2\n",
       "97  2.529978  0.941439         3.728636         1.796424                2\n",
       "98  0.169321  4.197417         0.804235         4.278824                1\n",
       "99  1.442550  1.319845         3.043116         1.392064                2\n",
       "\n",
       "[100 rows x 5 columns]"
      ]
     },
     "execution_count": 4,
     "metadata": {},
     "output_type": "execute_result"
    }
   ],
   "source": [
    "kMeansClustering(testSample)"
   ]
  },
  {
   "cell_type": "code",
   "execution_count": null,
   "metadata": {},
   "outputs": [],
   "source": []
  }
 ],
 "metadata": {
  "kernelspec": {
   "display_name": "Python 3",
   "language": "python",
   "name": "python3"
  },
  "language_info": {
   "codemirror_mode": {
    "name": "ipython",
    "version": 3
   },
   "file_extension": ".py",
   "mimetype": "text/x-python",
   "name": "python",
   "nbconvert_exporter": "python",
   "pygments_lexer": "ipython3",
   "version": "3.7.6"
  }
 },
 "nbformat": 4,
 "nbformat_minor": 4
}
