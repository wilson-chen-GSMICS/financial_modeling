
   "source": [
    "from sklearn.datasets.samples_generator import make_blobs\n",
    "import matplotlib.pyplot as plt\n",
    "import pandas as pd\n",
    "import numpy as np\n",
    "import copy\n",
    "X, y = make_blobs(n_samples=100, centers=2,cluster_std=0.5, random_state=0)\n",
    "plt.scatter(X[:, 0], X[:, 1])\n",
    "testSample = pd.DataFrame({'x':X[:, 0],'y':X[:, 1]})"
   ]
  },
  {
   "cell_type": "code",
   "execution_count": 160,
   "metadata": {},
   "outputs": [],
   "source": [
    "def initialCentroid(df):\n",
    "    k = 2 \n",
    "    x, y = df['x'], df['y']\n",
    "    centroid = {i+1:[np.random.randint(min(x),max(x)),np.random.randint(min(y),max(y))] for i in range(k)}\n",
    "    return centroid\n",
    "\n",
    "def updateCenter(df, centroids):\n",
    "    for key in centroids.keys():\n",
    "        centroids[key][0] = np.mean(df[df['closestCentroid'] == key]['x'])\n",
    "        centroids[key][1] = np.mean(df[df['closestCentroid'] == key]['y'])\n",
    "        return centroids\n",
    "\n",
    "\n",
    "def findingCentroid(df, centroids, counter,k=2):\n",
    "    counter += 1 #Count iterations\n",
    "    old_centroids = copy.deepcopy(centroids)\n",
    "    for key in centroids.keys():\n",
    "        df['distance from ' + str(key)] = np.sqrt((df['x']- old_centroids[key][0])**2 + (df['y']-old_centroids[key][1])**2)\n",
    "    df['closestCentroid'] = df[['distance from 1','distance from 2']].idxmin(axis=1)\n",
    "    df['closestCentroid'] = df['closestCentroid'].map(lambda x: int(x[-1]))\n",
    "    \n",
    "    newCentroids = updateCenter(df, centroids)\n",
    "    print('Iteration:', counter, ', centroid 1:',old_centroids,', centroid 2:', newCentroids)\n",
    "    while (newCentroids[1] != old_centroids[1]) or (newCentroids[2] != old_centroids[2]):\n",
    "        return findingCentroid(df, newCentroids,counter)\n",
    "    return df\n",
    "\n",
    "def clusterPlot(df):\n",
    "    fig = plt.figure(figsize = (5,5))\n",
    "    clusterOne = df[df['closestCentroid']==1]\n",
    "    clusterTwo = df[df['closestCentroid']==2]\n",
    "    plt.scatter(clusterOne['x'],clusterOne['y'],c='r')\n",
    "    plt.scatter(clusterTwo['x'],clusterTwo['y'],c='g')\n",
    "    plt.show()\n",
    "\n",
    "# This is the final function\n",
    "def kMeansClustering(df):\n",
    "    centroid = initialCentroid(df)\n",
    "    clusteredData = findingCentroid(df,centroid,0)\n",
    "    clusterPlot(clusteredData)"
   ]
  },
  {
   "cell_type": "code",
   "execution_count": 161,
   "metadata": {},
   "outputs": [
    {
     "name": "stdout",
     "output_type": "stream",
     "text": [
      "Iteration: 1 , centroid 1: {1: [2, 4], 2: [2, 2]} , centroid 2: {1: [0.9633719139201409, 4.32499813368867], 2: [2, 2]}\n",
      "Iteration: 2 , centroid 1: {1: [0.9633719139201409, 4.32499813368867], 2: [2, 2]} , centroid 2: {1: [0.9633719139201409, 4.32499813368867], 2: [2, 2]}\n"
     ]
    },
    {
     "data": {
      "image/png": "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\n",
      "text/plain": [
       "<Figure size 360x360 with 1 Axes>"
      ]
     },
     "metadata": {
      "needs_background": "light"
     },
     "output_type": "display_data"
    }
   ],
   "source": [
    "kMeansClustering(testSample)"
   ]
  },
  {
   "cell_type": "code",
   "execution_count": null,
   "metadata": {},
   "outputs": [],
   "source": []
  }
 ],
 "metadata": {
  "kernelspec": {
   "display_name": "Python 3",
   "language": "python",
   "name": "python3"
  },
  "language_info": {
   "codemirror_mode": {
    "name": "ipython",
    "version": 3
   },
   "file_extension": ".py",
   "mimetype": "text/x-python",
   "name": "python",
   "nbconvert_exporter": "python",
   "pygments_lexer": "ipython3",
   "version": "3.7.6"
  }
 },
 "nbformat": 4,
 "nbformat_minor": 4
}
